{
 "cells": [
  {
   "cell_type": "code",
   "execution_count": null,
   "id": "49b3b7e1",
   "metadata": {},
   "outputs": [],
   "source": [
    "import tweepy\n",
    "import pandas as pd\n",
    "from textblob import TextBlob\n",
    "\n",
    "def get_sentiment(text):\n",
    "    blob = TextBlob(text)\n",
    "    return blob.sentiment.polarity\n",
    "\n",
    "client = tweepy.Client(bearer_token='AAAAAAAAAAAAAAAAAAAAAGfrlgEAAAAAO%2FyiySOwdbuECDZAcJOUua%2FocbA%3DfJbRxABJwM8hloqjQtjMb3UN96nbK3nTNrk5eoJcpAWZhJPvO9')\n",
    "query = '@lakme -is:retweet lang:en'\n",
    "tweets = tweepy.Paginator(client.search_recent_tweets, query=query,\n",
    "                              tweet_fields=['context_annotations', 'created_at'], max_results=100).flatten(limit=10000)\n",
    "\n",
    "def get_label(polarity):\n",
    "    if polarity > 0:\n",
    "        return 'positive'\n",
    "    elif polarity == 0:\n",
    "        return 'neutral'\n",
    "    else:\n",
    "        return 'negative'\n",
    "\n",
    "data = []\n",
    "for tweet in tweets:\n",
    "    row = {\n",
    "        'text': tweet.text, \n",
    "        'created_at': tweet.created_at,\n",
    "        'polarity': get_sentiment(tweet.text),\n",
    "        'label': get_label(get_sentiment(tweet.text))\n",
    "    }\n",
    "    data.append(row)\n",
    "df = pd.DataFrame(data)\n",
    "df.to_csv('/Users/aryanthakur/Downloads/Paytmcare.csv', index=False)"
   ]
  },
  {
   "cell_type": "code",
   "execution_count": 8,
   "id": "44fc94b9",
   "metadata": {},
   "outputs": [],
   "source": [
    "import re\n",
    "from nltk.corpus import stopwords\n",
    "from wordcloud import WordCloud, STOPWORDS\n",
    "import spacy\n",
    "import numpy as np"
   ]
  },
  {
   "cell_type": "code",
   "execution_count": 21,
   "id": "fbada580",
   "metadata": {},
   "outputs": [],
   "source": [
    "nlp = spacy.load(\"en_core_web_sm\")"
   ]
  },
  {
   "cell_type": "code",
   "execution_count": 11,
   "id": "ee4f9569",
   "metadata": {},
   "outputs": [
    {
     "data": {
      "text/html": [
       "<div>\n",
       "<style scoped>\n",
       "    .dataframe tbody tr th:only-of-type {\n",
       "        vertical-align: middle;\n",
       "    }\n",
       "\n",
       "    .dataframe tbody tr th {\n",
       "        vertical-align: top;\n",
       "    }\n",
       "\n",
       "    .dataframe thead th {\n",
       "        text-align: right;\n",
       "    }\n",
       "</style>\n",
       "<table border=\"1\" class=\"dataframe\">\n",
       "  <thead>\n",
       "    <tr style=\"text-align: right;\">\n",
       "      <th></th>\n",
       "      <th>text</th>\n",
       "      <th>created_at</th>\n",
       "      <th>polarity</th>\n",
       "      <th>label</th>\n",
       "    </tr>\n",
       "  </thead>\n",
       "  <tbody>\n",
       "    <tr>\n",
       "      <th>0</th>\n",
       "      <td>@Paytm , @Paytmcare  where is your lite fast  ...</td>\n",
       "      <td>2023-03-29 06:46:15+00:00</td>\n",
       "      <td>0.200</td>\n",
       "      <td>positive</td>\n",
       "    </tr>\n",
       "    <tr>\n",
       "      <th>1</th>\n",
       "      <td>I am extremely disappointed and frustrated wit...</td>\n",
       "      <td>2023-03-29 06:44:28+00:00</td>\n",
       "      <td>-0.725</td>\n",
       "      <td>negative</td>\n",
       "    </tr>\n",
       "    <tr>\n",
       "      <th>2</th>\n",
       "      <td>I was paying 1000 rupees on 20th March,2023 to...</td>\n",
       "      <td>2023-03-29 06:44:08+00:00</td>\n",
       "      <td>-0.250</td>\n",
       "      <td>negative</td>\n",
       "    </tr>\n",
       "    <tr>\n",
       "      <th>3</th>\n",
       "      <td>@PaytmHelpcare0 Who is this replying your fake...</td>\n",
       "      <td>2023-03-29 06:41:35+00:00</td>\n",
       "      <td>-0.500</td>\n",
       "      <td>negative</td>\n",
       "    </tr>\n",
       "    <tr>\n",
       "      <th>4</th>\n",
       "      <td>I made a recharge on DMRC website for metro ca...</td>\n",
       "      <td>2023-03-29 06:40:48+00:00</td>\n",
       "      <td>0.000</td>\n",
       "      <td>neutral</td>\n",
       "    </tr>\n",
       "  </tbody>\n",
       "</table>\n",
       "</div>"
      ],
      "text/plain": [
       "                                                text  \\\n",
       "0  @Paytm , @Paytmcare  where is your lite fast  ...   \n",
       "1  I am extremely disappointed and frustrated wit...   \n",
       "2  I was paying 1000 rupees on 20th March,2023 to...   \n",
       "3  @PaytmHelpcare0 Who is this replying your fake...   \n",
       "4  I made a recharge on DMRC website for metro ca...   \n",
       "\n",
       "                  created_at  polarity     label  \n",
       "0  2023-03-29 06:46:15+00:00     0.200  positive  \n",
       "1  2023-03-29 06:44:28+00:00    -0.725  negative  \n",
       "2  2023-03-29 06:44:08+00:00    -0.250  negative  \n",
       "3  2023-03-29 06:41:35+00:00    -0.500  negative  \n",
       "4  2023-03-29 06:40:48+00:00     0.000   neutral  "
      ]
     },
     "execution_count": 11,
     "metadata": {},
     "output_type": "execute_result"
    }
   ],
   "source": [
    "df=pd.read_csv('/Users/aryanthakur/Downloads/Paytmcare.csv')\n",
    "df.head()"
   ]
  },
  {
   "cell_type": "code",
   "execution_count": 14,
   "id": "ae080079",
   "metadata": {},
   "outputs": [
    {
     "data": {
      "text/plain": [
       "0     ,   where is your lite fast  payment is still...\n",
       "1    I am extremely disappointed and frustrated wit...\n",
       "2    I was paying 1000 rupees on 20th March,2023 to...\n",
       "3              Who is this replying your fake account \n",
       "4    I made a recharge on DMRC website for metro ca...\n",
       "Name: url_text, dtype: object"
      ]
     },
     "execution_count": 14,
     "metadata": {},
     "output_type": "execute_result"
    }
   ],
   "source": [
    "def remove_mentions(text):\n",
    "    return re.sub(r'@\\w+', '', text)\n",
    "df['url_text'] = df['url_text'].apply(remove_mentions)\n",
    "df['url_text'].head()"
   ]
  },
  {
   "cell_type": "code",
   "execution_count": 15,
   "id": "950a0792",
   "metadata": {},
   "outputs": [
    {
     "data": {
      "text/plain": [
       "0    , where is your lite fast payment is still on ...\n",
       "1    i am extremely disappointed and frustrated wit...\n",
       "2    i was paying 1000 rupees on 20th march,2023 to...\n",
       "3               who is this replying your fake account\n",
       "4    i made a recharge on dmrc website for metro ca...\n",
       "Name: lc_text, dtype: object"
      ]
     },
     "execution_count": 15,
     "metadata": {},
     "output_type": "execute_result"
    }
   ],
   "source": [
    "df['lc_text'] = df['url_text'].apply(lambda x: \" \".join(x.lower() for x in x.split()))\n",
    "df['lc_text'].head()"
   ]
  },
  {
   "cell_type": "code",
   "execution_count": 16,
   "id": "54192634",
   "metadata": {},
   "outputs": [
    {
     "name": "stderr",
     "output_type": "stream",
     "text": [
      "/var/folders/6w/dtmngg7156vdm9brvnbc_nq40000gn/T/ipykernel_2193/1341007855.py:1: FutureWarning: The default value of regex will change from True to False in a future version.\n",
      "  df['lcrp_text'] = df['lc_text'].str.replace('[^\\w\\s]','')\n"
     ]
    },
    {
     "data": {
      "text/plain": [
       "0     where is your lite fast payment is still on p...\n",
       "1    i am extremely disappointed and frustrated wit...\n",
       "2    i was paying 1000 rupees on 20th march2023 to ...\n",
       "3               who is this replying your fake account\n",
       "4    i made a recharge on dmrc website for metro ca...\n",
       "Name: lcrp_text, dtype: object"
      ]
     },
     "execution_count": 16,
     "metadata": {},
     "output_type": "execute_result"
    }
   ],
   "source": [
    "df['lcrp_text'] = df['lc_text'].str.replace('[^\\w\\s]','')\n",
    "df['lcrp_text'].head()"
   ]
  },
  {
   "cell_type": "code",
   "execution_count": 17,
   "id": "e85f49c1",
   "metadata": {},
   "outputs": [],
   "source": [
    "def remove_emoji(text):\n",
    "    emoji_pattern = re.compile(\"[\"\n",
    "                           u\"\\U0001F600-\\U0001F64F\"  # emoticons\n",
    "                           u\"\\U0001F300-\\U0001F5FF\"  # symbols & pictographs\n",
    "                           u\"\\U0001F680-\\U0001F6FF\"  # transport & map symbols\n",
    "                           u\"\\U0001F1E0-\\U0001F1FF\"  # flags \n",
    "                           u\"\\U00002702-\\U000027B0\"\n",
    "                           u\"\\U000024C2-\\U0001F251\"\n",
    "                           \"]+\", flags=re.UNICODE)\n",
    "    return emoji_pattern.sub(r'', text)\n",
    "df['lcrpe_text'] = df['lcrp_text'].apply(lambda x: remove_emoji(x))"
   ]
  },
  {
   "cell_type": "code",
   "execution_count": 19,
   "id": "6f7e3fe7",
   "metadata": {},
   "outputs": [
    {
     "data": {
      "text/plain": [
       "0                  lite fast payment still pending syq\n",
       "1    extremely disappointed frustrated closing acco...\n",
       "2    paying 1000 rupees 20th march2023 paytm regist...\n",
       "3                                replying fake account\n",
       "4    made recharge dmrc website metro card using pa...\n",
       "Name: lcrpestp_text, dtype: object"
      ]
     },
     "execution_count": 19,
     "metadata": {},
     "output_type": "execute_result"
    }
   ],
   "source": [
    "stop = stopwords.words('english')\n",
    "df['lcrpestp_text'] = df['lcrpe_text'].apply(lambda x: \" \".join(x for x in x.split() if x not in stop))\n",
    "df['lcrpestp_text'].head()"
   ]
  },
  {
   "cell_type": "code",
   "execution_count": 23,
   "id": "bf1eb9e6",
   "metadata": {},
   "outputs": [
    {
     "data": {
      "text/plain": [
       "0                    lite fast payment still pende syq\n",
       "1    extremely disappointed frustrated closing acco...\n",
       "2    pay 1000 rupee 20th march2023 paytm register m...\n",
       "3                                   reply fake account\n",
       "4    make recharge dmrc website metro card use payt...\n",
       "Name: lcrpestpl_text, dtype: object"
      ]
     },
     "execution_count": 23,
     "metadata": {},
     "output_type": "execute_result"
    }
   ],
   "source": [
    "def space(comment):\n",
    "    doc = nlp(comment)\n",
    "    return \" \".join([token.lemma_ for token in doc])\n",
    "df['lcrpestpl_text']= df['lcrpestp_text'].apply(space)\n",
    "df['lcrpestpl_text'].head()"
   ]
  },
  {
   "cell_type": "code",
   "execution_count": 24,
   "id": "bbd73e29",
   "metadata": {},
   "outputs": [],
   "source": [
    "df.to_csv('/Users/aryanthakur/Downloads/PaytmcarePrePro.csv', index=False)"
   ]
  }
 ],
 "metadata": {
  "kernelspec": {
   "display_name": "Python 3 (ipykernel)",
   "language": "python",
   "name": "python3"
  },
  "language_info": {
   "codemirror_mode": {
    "name": "ipython",
    "version": 3
   },
   "file_extension": ".py",
   "mimetype": "text/x-python",
   "name": "python",
   "nbconvert_exporter": "python",
   "pygments_lexer": "ipython3",
   "version": "3.9.1"
  }
 },
 "nbformat": 4,
 "nbformat_minor": 5
}
