{
 "cells": [
  {
   "cell_type": "code",
   "execution_count": 30,
   "id": "767e63af",
   "metadata": {},
   "outputs": [
    {
     "data": {
      "text/html": [
       "<div>\n",
       "<style scoped>\n",
       "    .dataframe tbody tr th:only-of-type {\n",
       "        vertical-align: middle;\n",
       "    }\n",
       "\n",
       "    .dataframe tbody tr th {\n",
       "        vertical-align: top;\n",
       "    }\n",
       "\n",
       "    .dataframe thead th {\n",
       "        text-align: right;\n",
       "    }\n",
       "</style>\n",
       "<table border=\"1\" class=\"dataframe\">\n",
       "  <thead>\n",
       "    <tr style=\"text-align: right;\">\n",
       "      <th></th>\n",
       "      <th>Tweets</th>\n",
       "      <th>Polarity</th>\n",
       "      <th>Label</th>\n",
       "      <th>Label_M</th>\n",
       "    </tr>\n",
       "  </thead>\n",
       "  <tbody>\n",
       "    <tr>\n",
       "      <th>0</th>\n",
       "      <td>bendy concealer lip liner chestnut lippy lady ...</td>\n",
       "      <td>0.70</td>\n",
       "      <td>positive</td>\n",
       "      <td>positive</td>\n",
       "    </tr>\n",
       "    <tr>\n",
       "      <th>1</th>\n",
       "      <td>let boycott begin</td>\n",
       "      <td>0.00</td>\n",
       "      <td>neutral</td>\n",
       "      <td>negative</td>\n",
       "    </tr>\n",
       "    <tr>\n",
       "      <th>2</th>\n",
       "      <td>need try get sleep tonight I m go leave morning</td>\n",
       "      <td>0.00</td>\n",
       "      <td>neutral</td>\n",
       "      <td>neutral</td>\n",
       "    </tr>\n",
       "    <tr>\n",
       "      <th>3</th>\n",
       "      <td>ok except one we have not follow standard</td>\n",
       "      <td>0.25</td>\n",
       "      <td>positive</td>\n",
       "      <td>positive</td>\n",
       "    </tr>\n",
       "    <tr>\n",
       "      <th>4</th>\n",
       "      <td>read lil dylan act career tank agent writer fr...</td>\n",
       "      <td>-0.50</td>\n",
       "      <td>negative</td>\n",
       "      <td>negative</td>\n",
       "    </tr>\n",
       "  </tbody>\n",
       "</table>\n",
       "</div>"
      ],
      "text/plain": [
       "                                              Tweets  Polarity     Label  \\\n",
       "0  bendy concealer lip liner chestnut lippy lady ...      0.70  positive   \n",
       "1                                  let boycott begin      0.00   neutral   \n",
       "2    need try get sleep tonight I m go leave morning      0.00   neutral   \n",
       "3          ok except one we have not follow standard      0.25  positive   \n",
       "4  read lil dylan act career tank agent writer fr...     -0.50  negative   \n",
       "\n",
       "    Label_M  \n",
       "0  positive  \n",
       "1  negative  \n",
       "2   neutral  \n",
       "3  positive  \n",
       "4  negative  "
      ]
     },
     "execution_count": 30,
     "metadata": {},
     "output_type": "execute_result"
    }
   ],
   "source": [
    "import pandas as pd\n",
    "df = pd.read_csv(\"/Users/aryanthakur/Downloads/MACosmetics_Preprocessed.csv\")\n",
    "df.head()"
   ]
  },
  {
   "cell_type": "code",
   "execution_count": 31,
   "id": "2d6a01ca",
   "metadata": {},
   "outputs": [
    {
     "name": "stdout",
     "output_type": "stream",
     "text": [
      "0\n"
     ]
    }
   ],
   "source": [
    "df.dropna(subset=['Tweets'], inplace=True)\n",
    "print(df['Tweets'].isna().sum())"
   ]
  },
  {
   "cell_type": "code",
   "execution_count": 32,
   "id": "ea1d7d19",
   "metadata": {},
   "outputs": [
    {
     "name": "stdout",
     "output_type": "stream",
     "text": [
      "(2358, 1779)\n"
     ]
    }
   ],
   "source": [
    "from sklearn.feature_extraction.text import TfidfVectorizer\n",
    "\n",
    "tfidf_vectorizer = TfidfVectorizer(max_df=0.8, min_df=2, stop_words='english')\n",
    "\n",
    "tfidf_matrix = tfidf_vectorizer.fit_transform(df['Tweets'])\n",
    "\n",
    "print(tfidf_matrix.shape)"
   ]
  },
  {
   "cell_type": "code",
   "execution_count": 33,
   "id": "07c828b6",
   "metadata": {},
   "outputs": [
    {
     "name": "stdout",
     "output_type": "stream",
     "text": [
      "[[0.         0.         0.         0.         0.         0.\n",
      "  0.         0.         0.         0.         1.         0.\n",
      "  0.         0.         0.         0.         0.         0.\n",
      "  0.         0.         0.         0.         0.         0.\n",
      "  0.         0.         0.         0.         0.         0.        ]\n",
      " [0.         0.         0.         0.         0.         0.\n",
      "  0.         0.         0.         0.         0.         0.\n",
      "  0.         0.         0.         0.         0.         0.\n",
      "  0.         0.         0.         0.         0.         0.\n",
      "  0.         0.         0.         0.         0.         0.        ]\n",
      " [0.         0.         0.         0.         0.         0.\n",
      "  0.         0.         0.         0.59610181 0.         0.\n",
      "  0.         0.         0.         0.         0.59610181 0.\n",
      "  0.         0.         0.         0.         0.         0.\n",
      "  0.         0.         0.         0.53788964 0.         0.        ]\n",
      " [0.         0.         0.         0.         0.         0.\n",
      "  0.         0.         0.         0.         0.         0.\n",
      "  0.         0.         0.         0.         0.         0.48790789\n",
      "  0.87289512 0.         0.         0.         0.         0.\n",
      "  0.         0.         0.         0.         0.         0.        ]\n",
      " [0.         0.         0.56553559 0.56553559 0.         0.\n",
      "  0.         0.         0.         0.         0.         0.\n",
      "  0.         0.         0.         0.         0.         0.31610817\n",
      "  0.         0.         0.         0.         0.51030836 0.\n",
      "  0.         0.         0.         0.         0.         0.        ]\n",
      " [0.         0.         0.         0.         0.         0.\n",
      "  0.         0.         0.         0.         0.         0.\n",
      "  0.         0.         0.         0.         0.         0.\n",
      "  0.         0.         0.         0.         0.         0.\n",
      "  0.         0.         0.         0.         0.         0.        ]\n",
      " [0.         0.35884478 0.         0.         0.39768013 0.\n",
      "  0.26527409 0.39768013 0.         0.39768013 0.         0.\n",
      "  0.         0.         0.         0.         0.         0.4445695\n",
      "  0.         0.         0.         0.         0.         0.\n",
      "  0.         0.         0.         0.35884478 0.         0.        ]\n",
      " [0.30054114 0.         0.         0.         0.         0.\n",
      "  0.         0.         0.60108228 0.         0.54238375 0.\n",
      "  0.         0.         0.         0.         0.         0.\n",
      "  0.         0.         0.         0.         0.27119187 0.\n",
      "  0.30054114 0.         0.         0.         0.30054114 0.        ]\n",
      " [1.         0.         0.         0.         0.         0.\n",
      "  0.         0.         0.         0.         0.         0.\n",
      "  0.         0.         0.         0.         0.         0.\n",
      "  0.         0.         0.         0.         0.         0.\n",
      "  0.         0.         0.         0.         0.         0.        ]\n",
      " [0.         0.         0.         0.         0.         0.\n",
      "  0.34412624 0.         0.         0.         0.         0.\n",
      "  0.         0.         0.         0.         0.         0.28835842\n",
      "  0.5158897  0.5158897  0.         0.         0.         0.\n",
      "  0.         0.         0.         0.         0.5158897  0.        ]\n",
      " [0.         0.35884478 0.         0.         0.         0.39768013\n",
      "  0.26527409 0.         0.         0.         0.         0.\n",
      "  0.39768013 0.         0.         0.         0.         0.4445695\n",
      "  0.         0.         0.         0.39768013 0.         0.\n",
      "  0.         0.         0.         0.         0.         0.35884478]\n",
      " [0.         0.         0.         0.         0.         0.\n",
      "  0.         0.5        0.         0.         0.         0.5\n",
      "  0.         0.         0.         0.5        0.         0.\n",
      "  0.         0.         0.         0.         0.         0.\n",
      "  0.         0.         0.5        0.         0.         0.        ]\n",
      " [0.         0.         0.         0.         0.         0.\n",
      "  0.         0.         0.         0.         0.         0.\n",
      "  0.         1.         0.         0.         0.         0.\n",
      "  0.         0.         0.         0.         0.         0.\n",
      "  0.         0.         0.         0.         0.         0.        ]\n",
      " [0.         0.         0.         0.         0.         0.\n",
      "  0.         0.         0.         0.         0.         0.4472136\n",
      "  0.         0.         0.         0.4472136  0.         0.\n",
      "  0.         0.4472136  0.4472136  0.         0.         0.\n",
      "  0.         0.         0.4472136  0.         0.         0.        ]\n",
      " [0.         0.         0.         0.         0.         0.\n",
      "  0.         0.         0.         0.         0.         0.\n",
      "  0.         0.38841311 0.         0.         0.         0.\n",
      "  0.         0.         0.38841311 0.         0.35048273 0.38841311\n",
      "  0.38841311 0.38841311 0.         0.         0.         0.35048273]\n",
      " [0.         0.         0.         0.         0.         0.\n",
      "  0.54331051 0.         0.         0.         0.         0.\n",
      "  0.40724633 0.         0.40724633 0.         0.40724633 0.45526363\n",
      "  0.         0.         0.         0.         0.         0.\n",
      "  0.         0.         0.         0.         0.         0.        ]\n",
      " [0.         0.46565193 0.         0.         0.         0.\n",
      "  0.         0.         0.         0.         0.         0.\n",
      "  0.         0.         0.51604629 0.         0.         0.28844595\n",
      "  0.         0.         0.         0.         0.         0.\n",
      "  0.         0.         0.         0.46565193 0.         0.46565193]\n",
      " [0.         0.         0.         0.75433788 0.         0.\n",
      "  0.50318403 0.         0.         0.         0.         0.\n",
      "  0.         0.         0.         0.         0.         0.42163989\n",
      "  0.         0.         0.         0.         0.         0.\n",
      "  0.         0.         0.         0.         0.         0.        ]\n",
      " [0.         0.         0.3242909  0.         0.3242909  0.3242909\n",
      "  0.21631951 0.         0.3242909  0.         0.29262235 0.\n",
      "  0.         0.         0.         0.         0.         0.36252715\n",
      "  0.         0.         0.         0.3242909  0.         0.3242909\n",
      "  0.         0.3242909  0.         0.         0.         0.        ]\n",
      " [0.         0.         0.         0.         0.         0.\n",
      "  0.76648053 0.         0.         0.         0.         0.\n",
      "  0.         0.         0.         0.         0.         0.64226754\n",
      "  0.         0.         0.         0.         0.         0.\n",
      "  0.         0.         0.         0.         0.         0.        ]]\n"
     ]
    }
   ],
   "source": [
    "\n",
    "\n",
    "tfidf = TfidfVectorizer(max_df=0.8, min_df=2)\n",
    "\n",
    "tfidf_matrix = tfidf.fit_transform(df['Tweets'][:20])\n",
    "\n",
    "tfidf_array = tfidf_matrix.toarray()\n",
    "print(tfidf_array)\n"
   ]
  },
  {
   "cell_type": "code",
   "execution_count": 34,
   "id": "eb84b065",
   "metadata": {},
   "outputs": [
    {
     "data": {
      "image/png": "[encoded data removed]",
      "text/plain": [
       "<Figure size 640x480 with 1 Axes>"
      ]
     },
     "metadata": {},
     "output_type": "display_data"
    }
   ],
   "source": [
    "import pandas as pd\n",
    "from sklearn.feature_extraction.text import TfidfVectorizer\n",
    "import matplotlib.pyplot as plt\n",
    "\n",
    "tfidf_vectorizer = TfidfVectorizer(max_df=0.8, min_df=2, stop_words='english')\n",
    "\n",
    "tfidf_matrix = tfidf_vectorizer.fit_transform(df['Tweets'])\n",
    "\n",
    "feature_names = tfidf_vectorizer.get_feature_names_out()\n",
    "\n",
    "doc_weights = tfidf_matrix.toarray()\n",
    "\n",
    "avg_weights = tfidf_matrix.mean(axis=0).tolist()[0]\n",
    "\n",
    "feature_weights = dict(zip(feature_names, avg_weights))\n",
    "\n",
    "sorted_features = sorted(feature_weights.items(), key=lambda x: x[1], reverse=True)\n",
    "\n",
    "top_features = sorted_features[:35]\n",
    "\n",
    "plt.bar(range(len(top_features)), [x[1] for x in top_features], align='center')\n",
    "plt.xticks(range(len(top_features)), [x[0] for x in top_features], rotation=90)\n",
    "plt.xlabel('Feature (Word)')\n",
    "plt.ylabel('Average Weight')\n",
    "plt.title('Top 35 Features by TF-IDF Weight')\n",
    "plt.show()"
   ]
  },
  {
   "cell_type": "code",
   "execution_count": null,
   "id": "a776c117",
   "metadata": {},
   "outputs": [],
   "source": []
  }
 ],
 "metadata": {
  "kernelspec": {
   "display_name": "Python 3 (ipykernel)",
   "language": "python",
   "name": "python3"
  },
  "language_info": {
   "codemirror_mode": {
    "name": "ipython",
    "version": 3
   },
   "file_extension": ".py",
   "mimetype": "text/x-python",
   "name": "python",
   "nbconvert_exporter": "python",
   "pygments_lexer": "ipython3",
   "version": "3.9.1"
  }
 },
 "nbformat": 4,
 "nbformat_minor": 5
}
