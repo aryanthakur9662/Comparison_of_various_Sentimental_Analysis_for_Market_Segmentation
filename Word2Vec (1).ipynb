{
 "cells": [
  {
   "cell_type": "code",
   "execution_count": 14,
   "id": "8df12215",
   "metadata": {},
   "outputs": [
    {
     "data": {
      "text/html": [
       "<div>\n",
       "<style scoped>\n",
       "    .dataframe tbody tr th:only-of-type {\n",
       "        vertical-align: middle;\n",
       "    }\n",
       "\n",
       "    .dataframe tbody tr th {\n",
       "        vertical-align: top;\n",
       "    }\n",
       "\n",
       "    .dataframe thead th {\n",
       "        text-align: right;\n",
       "    }\n",
       "</style>\n",
       "<table border=\"1\" class=\"dataframe\">\n",
       "  <thead>\n",
       "    <tr style=\"text-align: right;\">\n",
       "      <th></th>\n",
       "      <th>text</th>\n",
       "      <th>created_at</th>\n",
       "      <th>polarity</th>\n",
       "      <th>label</th>\n",
       "    </tr>\n",
       "  </thead>\n",
       "  <tbody>\n",
       "    <tr>\n",
       "      <th>0</th>\n",
       "      <td>@firstaidbeauty Bendy concealer @maccosmetics ...</td>\n",
       "      <td>2023-04-27 07:35:03+00:00</td>\n",
       "      <td>0.700</td>\n",
       "      <td>positive</td>\n",
       "    </tr>\n",
       "    <tr>\n",
       "      <th>1</th>\n",
       "      <td>Let the boycott begin 😎 @Maybelline @MACcosmet...</td>\n",
       "      <td>2023-04-27 06:05:33+00:00</td>\n",
       "      <td>0.000</td>\n",
       "      <td>neutral</td>\n",
       "    </tr>\n",
       "    <tr>\n",
       "      <th>2</th>\n",
       "      <td>@WeAreNot_OK @sweet_momster @darthothedead42 @...</td>\n",
       "      <td>2023-04-27 04:51:47+00:00</td>\n",
       "      <td>0.000</td>\n",
       "      <td>neutral</td>\n",
       "    </tr>\n",
       "    <tr>\n",
       "      <th>3</th>\n",
       "      <td>@WeAreNot_OK @sweet_momster @darthothedead42 @...</td>\n",
       "      <td>2023-04-27 04:49:17+00:00</td>\n",
       "      <td>0.125</td>\n",
       "      <td>positive</td>\n",
       "    </tr>\n",
       "    <tr>\n",
       "      <th>4</th>\n",
       "      <td>@LindaAb47675443 @spat64 @Maybelline @MACcosme...</td>\n",
       "      <td>2023-04-27 04:38:57+00:00</td>\n",
       "      <td>-0.250</td>\n",
       "      <td>negative</td>\n",
       "    </tr>\n",
       "  </tbody>\n",
       "</table>\n",
       "</div>"
      ],
      "text/plain": [
       "                                                text  \\\n",
       "0  @firstaidbeauty Bendy concealer @maccosmetics ...   \n",
       "1  Let the boycott begin 😎 @Maybelline @MACcosmet...   \n",
       "2  @WeAreNot_OK @sweet_momster @darthothedead42 @...   \n",
       "3  @WeAreNot_OK @sweet_momster @darthothedead42 @...   \n",
       "4  @LindaAb47675443 @spat64 @Maybelline @MACcosme...   \n",
       "\n",
       "                  created_at  polarity     label  \n",
       "0  2023-04-27 07:35:03+00:00     0.700  positive  \n",
       "1  2023-04-27 06:05:33+00:00     0.000   neutral  \n",
       "2  2023-04-27 04:51:47+00:00     0.000   neutral  \n",
       "3  2023-04-27 04:49:17+00:00     0.125  positive  \n",
       "4  2023-04-27 04:38:57+00:00    -0.250  negative  "
      ]
     },
     "execution_count": 14,
     "metadata": {},
     "output_type": "execute_result"
    }
   ],
   "source": [
    "import pandas as pd\n",
    "\n",
    "data = pd.read_csv(\"/Users/aryanthakur/Downloads/MACosmetics.csv\")\n",
    "data.head()"
   ]
  },
  {
   "cell_type": "code",
   "execution_count": 15,
   "id": "dc9a0d82",
   "metadata": {},
   "outputs": [
    {
     "name": "stderr",
     "output_type": "stream",
     "text": [
      "[nltk_data] Error loading punkt: <urlopen error [SSL:\n",
      "[nltk_data]     CERTIFICATE_VERIFY_FAILED] certificate verify failed:\n",
      "[nltk_data]     unable to get local issuer certificate (_ssl.c:1123)>\n"
     ]
    },
    {
     "data": {
      "text/html": [
       "<div>\n",
       "<style scoped>\n",
       "    .dataframe tbody tr th:only-of-type {\n",
       "        vertical-align: middle;\n",
       "    }\n",
       "\n",
       "    .dataframe tbody tr th {\n",
       "        vertical-align: top;\n",
       "    }\n",
       "\n",
       "    .dataframe thead th {\n",
       "        text-align: right;\n",
       "    }\n",
       "</style>\n",
       "<table border=\"1\" class=\"dataframe\">\n",
       "  <thead>\n",
       "    <tr style=\"text-align: right;\">\n",
       "      <th></th>\n",
       "      <th>text</th>\n",
       "      <th>created_at</th>\n",
       "      <th>polarity</th>\n",
       "      <th>label</th>\n",
       "      <th>tokenized_tweets</th>\n",
       "    </tr>\n",
       "  </thead>\n",
       "  <tbody>\n",
       "    <tr>\n",
       "      <th>0</th>\n",
       "      <td>@firstaidbeauty Bendy concealer @maccosmetics ...</td>\n",
       "      <td>2023-04-27 07:35:03+00:00</td>\n",
       "      <td>0.700</td>\n",
       "      <td>positive</td>\n",
       "      <td>[@, firstaidbeauty, Bendy, concealer, @, macco...</td>\n",
       "    </tr>\n",
       "    <tr>\n",
       "      <th>1</th>\n",
       "      <td>Let the boycott begin 😎 @Maybelline @MACcosmet...</td>\n",
       "      <td>2023-04-27 06:05:33+00:00</td>\n",
       "      <td>0.000</td>\n",
       "      <td>neutral</td>\n",
       "      <td>[Let, the, boycott, begin, 😎, @, Maybelline, @...</td>\n",
       "    </tr>\n",
       "    <tr>\n",
       "      <th>2</th>\n",
       "      <td>@WeAreNot_OK @sweet_momster @darthothedead42 @...</td>\n",
       "      <td>2023-04-27 04:51:47+00:00</td>\n",
       "      <td>0.000</td>\n",
       "      <td>neutral</td>\n",
       "      <td>[@, WeAreNot_OK, @, sweet_momster, @, darthoth...</td>\n",
       "    </tr>\n",
       "    <tr>\n",
       "      <th>3</th>\n",
       "      <td>@WeAreNot_OK @sweet_momster @darthothedead42 @...</td>\n",
       "      <td>2023-04-27 04:49:17+00:00</td>\n",
       "      <td>0.125</td>\n",
       "      <td>positive</td>\n",
       "      <td>[@, WeAreNot_OK, @, sweet_momster, @, darthoth...</td>\n",
       "    </tr>\n",
       "    <tr>\n",
       "      <th>4</th>\n",
       "      <td>@LindaAb47675443 @spat64 @Maybelline @MACcosme...</td>\n",
       "      <td>2023-04-27 04:38:57+00:00</td>\n",
       "      <td>-0.250</td>\n",
       "      <td>negative</td>\n",
       "      <td>[@, LindaAb47675443, @, spat64, @, Maybelline,...</td>\n",
       "    </tr>\n",
       "  </tbody>\n",
       "</table>\n",
       "</div>"
      ],
      "text/plain": [
       "                                                text  \\\n",
       "0  @firstaidbeauty Bendy concealer @maccosmetics ...   \n",
       "1  Let the boycott begin 😎 @Maybelline @MACcosmet...   \n",
       "2  @WeAreNot_OK @sweet_momster @darthothedead42 @...   \n",
       "3  @WeAreNot_OK @sweet_momster @darthothedead42 @...   \n",
       "4  @LindaAb47675443 @spat64 @Maybelline @MACcosme...   \n",
       "\n",
       "                  created_at  polarity     label  \\\n",
       "0  2023-04-27 07:35:03+00:00     0.700  positive   \n",
       "1  2023-04-27 06:05:33+00:00     0.000   neutral   \n",
       "2  2023-04-27 04:51:47+00:00     0.000   neutral   \n",
       "3  2023-04-27 04:49:17+00:00     0.125  positive   \n",
       "4  2023-04-27 04:38:57+00:00    -0.250  negative   \n",
       "\n",
       "                                    tokenized_tweets  \n",
       "0  [@, firstaidbeauty, Bendy, concealer, @, macco...  \n",
       "1  [Let, the, boycott, begin, 😎, @, Maybelline, @...  \n",
       "2  [@, WeAreNot_OK, @, sweet_momster, @, darthoth...  \n",
       "3  [@, WeAreNot_OK, @, sweet_momster, @, darthoth...  \n",
       "4  [@, LindaAb47675443, @, spat64, @, Maybelline,...  "
      ]
     },
     "execution_count": 15,
     "metadata": {},
     "output_type": "execute_result"
    }
   ],
   "source": [
    "import nltk\n",
    "\n",
    "nltk.download('punkt')\n",
    "\n",
    "data['tokenized_tweets'] = data['text'].apply(nltk.word_tokenize)\n",
    "data.head()"
   ]
  },
  {
   "cell_type": "code",
   "execution_count": 16,
   "id": "048bcacd",
   "metadata": {},
   "outputs": [
    {
     "name": "stdout",
     "output_type": "stream",
     "text": [
      "[('care', 0.24954327940940857), ('woman', 0.1848566085100174), ('wear', 0.1784154325723648), ('like', 0.16849324107170105), ('good', 0.16626755893230438), ('say', 0.11306578665971756), ('think', 0.11107158660888672), ('company', 0.09954316169023514), ('stop', 0.06598242372274399), ('look', 0.05453133583068848)]\n"
     ]
    }
   ],
   "source": [
    "from gensim.models import Word2Vec\n",
    "import pandas as pd\n",
    "\n",
    "\n",
    "vocab = ['woman', 'man', 'mac', 'makeup', 'boycott', 'like', 'buy', 'product', 'make', 'use', 'people', 'think', 'know', 'wear', 'look', 'brand', 'company', 'good', 'bye', 'dylan', 'support', 'want', 'thank', 'say', 'real', 'care', 'year', 'need', 'right', 'face', 'hate', 've', 'stop', 'really', 'point']\n",
    "\n",
    "tokenized_tweets = [[word for word in tweet if word in vocab] for tweet in data['tokenized_tweets']]\n",
    "\n",
    "model = Word2Vec(tokenized_tweets, min_count=1)\n",
    "\n",
    "similar_words = model.wv.most_similar('boycott')\n",
    "print(similar_words)"
   ]
  },
  {
   "cell_type": "code",
   "execution_count": 18,
   "id": "9e2a58f5",
   "metadata": {},
   "outputs": [
    {
     "data": {
      "image/png": "[encoded data removed]",
      "text/plain": [
       "<Figure size 640x480 with 1 Axes>"
      ]
     },
     "metadata": {},
     "output_type": "display_data"
    }
   ],
   "source": [
    "from gensim.models import Word2Vec\n",
    "import pandas as pd\n",
    "import matplotlib.pyplot as plt\n",
    "\n",
    "vocab = ['woman', 'man', 'mac', 'makeup', 'boycott', 'like', 'buy', 'product', 'make', 'use', 'people', 'think', 'know', 'wear', 'look', 'brand', 'company', 'good', 'bye', 'dylan', 'support', 'want', 'thank', 'say', 'real', 'care', 'year', 'need', 'right', 'face', 'hate', 've', 'stop', 'really', 'point']\n",
    "\n",
    "tokenized_tweets = [[word for word in tweet if word in vocab] for tweet in data['tokenized_tweets']]\n",
    "\n",
    "model = Word2Vec(tokenized_tweets, min_count=1)\n",
    "\n",
    "word_vectors = model.wv[vocab]\n",
    "\n",
    "for i, word in enumerate(vocab):\n",
    "    similar_words = [w[0] for w in model.wv.most_similar(word)]\n",
    "    similar_word_vectors = model.wv[similar_words]\n",
    "    plt.scatter(word_vectors[i, 0], word_vectors[i, 1])\n",
    "    for j, similar_word in enumerate(similar_words):\n",
    "        plt.annotate(similar_word, xy=(similar_word_vectors[j, 0], similar_word_vectors[j, 1]))\n",
    "plt.show()\n"
   ]
  }
 ],
 "metadata": {
  "kernelspec": {
   "display_name": "Python 3 (ipykernel)",
   "language": "python",
   "name": "python3"
  },
  "language_info": {
   "codemirror_mode": {
    "name": "ipython",
    "version": 3
   },
   "file_extension": ".py",
   "mimetype": "text/x-python",
   "name": "python",
   "nbconvert_exporter": "python",
   "pygments_lexer": "ipython3",
   "version": "3.9.1"
  }
 },
 "nbformat": 4,
 "nbformat_minor": 5
}
